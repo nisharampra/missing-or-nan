{
 "cells": [
  {
   "cell_type": "code",
   "execution_count": 27,
   "id": "85fe634a",
   "metadata": {},
   "outputs": [
    {
     "data": {
      "text/plain": [
       "0     one\n",
       "1     two\n",
       "2     NaN\n",
       "3    four\n",
       "4    None\n",
       "5     six\n",
       "dtype: object"
      ]
     },
     "execution_count": 27,
     "metadata": {},
     "output_type": "execute_result"
    }
   ],
   "source": [
    "import pandas as pd\n",
    "import numpy as np\n",
    "myseries=pd.Series(['one','two',np.nan,'four',None,'six'])\n",
    "myseries"
   ]
  },
  {
   "cell_type": "markdown",
   "id": "6d3c0f15",
   "metadata": {},
   "source": [
    "# \n",
    "The expression myseries.notnull() is used to create a boolean mask that represents whether each element in the pandas Series myseries is not null (i.e., it contains a valid, non-null value).\n",
    "\n",
    "Here's a breakdown:\n",
    "\n",
    "myseries: This is assumed to be a pandas Series, which is a one-dimensional labeled array capable of holding any data type.\n",
    "\n",
    "myseries.notnull(): This is a boolean mask where each element is True if the corresponding element in myseries is not null, and False if it is null. In other words, it creates a Series of the same shape as myseries with True for non-null values and False for null values.\n",
    "\n",
    "myseries[myseries.notnull()]: This is boolean indexing. It filters the original Series (myseries) based on the boolean mask. Only the elements for which the corresponding value in the boolean mask is True are selected, effectively removing the null values.\n",
    "\n",
    "So, myseries[myseries.notnull()] gives you a new Series that contains only the non-null values from the original myseries. This is a common operation when you want to exclude missing or null values from your data analysis."
   ]
  },
  {
   "cell_type": "code",
   "execution_count": 28,
   "id": "0f848125",
   "metadata": {},
   "outputs": [
    {
     "data": {
      "text/plain": [
       "0     one\n",
       "1     two\n",
       "3    four\n",
       "5     six\n",
       "dtype: object"
      ]
     },
     "execution_count": 28,
     "metadata": {},
     "output_type": "execute_result"
    }
   ],
   "source": [
    "myseries[myseries.notnull()]"
   ]
  },
  {
   "cell_type": "markdown",
   "id": "69fd9bfa",
   "metadata": {},
   "source": [
    "# The myseries.dropna() method in pandas is used to remove missing (null or NaN) values from a Series. This method returns a new Series with the missing values dropped.\n",
    "\n",
    "Here's a breakdown of what myseries.dropna() does:\n",
    "\n",
    "myseries: This is assumed to be a pandas Series.\n",
    "\n",
    ".dropna(): This is a method provided by pandas for Series objects. When you call myseries.dropna(), it removes any elements from the Series that have a null (NaN) value.\n",
    "\n",
    "So, the result of myseries.dropna() is a new Series where all the null values have been excluded. This is useful when you want to clean your data by getting rid of rows that contain missing values, allowing you to perform analyses or operations on the dataset without interference from null values."
   ]
  },
  {
   "cell_type": "code",
   "execution_count": 29,
   "id": "74d68c12",
   "metadata": {},
   "outputs": [
    {
     "data": {
      "text/plain": [
       "0     one\n",
       "1     two\n",
       "3    four\n",
       "5     six\n",
       "dtype: object"
      ]
     },
     "execution_count": 29,
     "metadata": {},
     "output_type": "execute_result"
    }
   ],
   "source": [
    "myseries.dropna()"
   ]
  },
  {
   "cell_type": "code",
   "execution_count": 30,
   "id": "5fcfad2b",
   "metadata": {
    "scrolled": true
   },
   "outputs": [
    {
     "data": {
      "text/plain": [
       "0     one\n",
       "1     two\n",
       "3    four\n",
       "5     six\n",
       "dtype: object"
      ]
     },
     "execution_count": 30,
     "metadata": {},
     "output_type": "execute_result"
    }
   ],
   "source": [
    "newseries=myseries.dropna()\n",
    "newseries"
   ]
  },
  {
   "cell_type": "code",
   "execution_count": 31,
   "id": "f464652a",
   "metadata": {},
   "outputs": [],
   "source": [
    "###################"
   ]
  },
  {
   "cell_type": "code",
   "execution_count": 32,
   "id": "e948de1d",
   "metadata": {},
   "outputs": [
    {
     "data": {
      "text/html": [
       "<div>\n",
       "<style scoped>\n",
       "    .dataframe tbody tr th:only-of-type {\n",
       "        vertical-align: middle;\n",
       "    }\n",
       "\n",
       "    .dataframe tbody tr th {\n",
       "        vertical-align: top;\n",
       "    }\n",
       "\n",
       "    .dataframe thead th {\n",
       "        text-align: right;\n",
       "    }\n",
       "</style>\n",
       "<table border=\"1\" class=\"dataframe\">\n",
       "  <thead>\n",
       "    <tr style=\"text-align: right;\">\n",
       "      <th></th>\n",
       "      <th>0</th>\n",
       "      <th>1</th>\n",
       "    </tr>\n",
       "  </thead>\n",
       "  <tbody>\n",
       "    <tr>\n",
       "      <th>0</th>\n",
       "      <td>1.205359</td>\n",
       "      <td>0.965846</td>\n",
       "    </tr>\n",
       "    <tr>\n",
       "      <th>1</th>\n",
       "      <td>-0.291954</td>\n",
       "      <td>-0.620745</td>\n",
       "    </tr>\n",
       "  </tbody>\n",
       "</table>\n",
       "</div>"
      ],
      "text/plain": [
       "          0         1\n",
       "0  1.205359  0.965846\n",
       "1 -0.291954 -0.620745"
      ]
     },
     "execution_count": 32,
     "metadata": {},
     "output_type": "execute_result"
    }
   ],
   "source": [
    "#You create a DataFrame (df) with random numbers:\n",
    "\n",
    "import pandas as pd\n",
    "import numpy as np\n",
    "\n",
    "df = pd.DataFrame(np.random.randn(2, 2))\n",
    "#This creates a 2x2 DataFrame with random numbers.\n",
    "\n",
    "df"
   ]
  },
  {
   "cell_type": "code",
   "execution_count": 33,
   "id": "764a6166",
   "metadata": {},
   "outputs": [],
   "source": [
    "#You set a specific element in the DataFrame to NaN:\n",
    "\n",
    "df.iloc[1, 1] = NA\n",
    "#This assigns NaN to the element in the second row and second column.\n"
   ]
  },
  {
   "cell_type": "code",
   "execution_count": 34,
   "id": "b1ef067d",
   "metadata": {},
   "outputs": [
    {
     "data": {
      "text/html": [
       "<div>\n",
       "<style scoped>\n",
       "    .dataframe tbody tr th:only-of-type {\n",
       "        vertical-align: middle;\n",
       "    }\n",
       "\n",
       "    .dataframe tbody tr th {\n",
       "        vertical-align: top;\n",
       "    }\n",
       "\n",
       "    .dataframe thead th {\n",
       "        text-align: right;\n",
       "    }\n",
       "</style>\n",
       "<table border=\"1\" class=\"dataframe\">\n",
       "  <thead>\n",
       "    <tr style=\"text-align: right;\">\n",
       "      <th></th>\n",
       "      <th>0</th>\n",
       "      <th>1</th>\n",
       "    </tr>\n",
       "  </thead>\n",
       "  <tbody>\n",
       "    <tr>\n",
       "      <th>0</th>\n",
       "      <td>1.205359</td>\n",
       "      <td>0.965846</td>\n",
       "    </tr>\n",
       "  </tbody>\n",
       "</table>\n",
       "</div>"
      ],
      "text/plain": [
       "          0         1\n",
       "0  1.205359  0.965846"
      ]
     },
     "execution_count": 34,
     "metadata": {},
     "output_type": "execute_result"
    }
   ],
   "source": [
    "#You call df.dropna():\n",
    "df.dropna()\n",
    "#This returns a new DataFrame with any rows containing NaN values removed. In your case, it seems that only the row with the NaN value in the second column will be removed.\n",
    "\n"
   ]
  },
  {
   "cell_type": "code",
   "execution_count": 35,
   "id": "6b428bca",
   "metadata": {},
   "outputs": [
    {
     "name": "stdout",
     "output_type": "stream",
     "text": [
      "          0         1\n",
      "0  1.205359  0.965846\n",
      "1 -0.291954       NaN\n"
     ]
    }
   ],
   "source": [
    "#When you print df again:\n",
    "print(df)\n"
   ]
  },
  {
   "cell_type": "code",
   "execution_count": 36,
   "id": "b47a1db8",
   "metadata": {},
   "outputs": [
    {
     "data": {
      "text/html": [
       "<div>\n",
       "<style scoped>\n",
       "    .dataframe tbody tr th:only-of-type {\n",
       "        vertical-align: middle;\n",
       "    }\n",
       "\n",
       "    .dataframe tbody tr th {\n",
       "        vertical-align: top;\n",
       "    }\n",
       "\n",
       "    .dataframe thead th {\n",
       "        text-align: right;\n",
       "    }\n",
       "</style>\n",
       "<table border=\"1\" class=\"dataframe\">\n",
       "  <thead>\n",
       "    <tr style=\"text-align: right;\">\n",
       "      <th></th>\n",
       "      <th>0</th>\n",
       "      <th>1</th>\n",
       "    </tr>\n",
       "  </thead>\n",
       "  <tbody>\n",
       "    <tr>\n",
       "      <th>0</th>\n",
       "      <td>1.205359</td>\n",
       "      <td>0.965846</td>\n",
       "    </tr>\n",
       "  </tbody>\n",
       "</table>\n",
       "</div>"
      ],
      "text/plain": [
       "          0         1\n",
       "0  1.205359  0.965846"
      ]
     },
     "execution_count": 36,
     "metadata": {},
     "output_type": "execute_result"
    }
   ],
   "source": [
    "#So, after step 3 (df.dropna()), the original DataFrame df remains unchanged. If you want to modify df in place, you can either reassign the result back to df or use the inplace=True argument with dropna():\n",
    "\n",
    "df.dropna(inplace=True)\n",
    "df"
   ]
  },
  {
   "cell_type": "code",
   "execution_count": 37,
   "id": "773ba87c",
   "metadata": {},
   "outputs": [],
   "source": [
    "###################"
   ]
  },
  {
   "cell_type": "code",
   "execution_count": 39,
   "id": "9631fa6f",
   "metadata": {},
   "outputs": [
    {
     "data": {
      "text/html": [
       "<div>\n",
       "<style scoped>\n",
       "    .dataframe tbody tr th:only-of-type {\n",
       "        vertical-align: middle;\n",
       "    }\n",
       "\n",
       "    .dataframe tbody tr th {\n",
       "        vertical-align: top;\n",
       "    }\n",
       "\n",
       "    .dataframe thead th {\n",
       "        text-align: right;\n",
       "    }\n",
       "</style>\n",
       "<table border=\"1\" class=\"dataframe\">\n",
       "  <thead>\n",
       "    <tr style=\"text-align: right;\">\n",
       "      <th></th>\n",
       "      <th>0</th>\n",
       "      <th>1</th>\n",
       "      <th>2</th>\n",
       "      <th>3</th>\n",
       "      <th>4</th>\n",
       "    </tr>\n",
       "  </thead>\n",
       "  <tbody>\n",
       "    <tr>\n",
       "      <th>0</th>\n",
       "      <td>0.099560</td>\n",
       "      <td>0.421009</td>\n",
       "      <td>0.868030</td>\n",
       "      <td>0.961380</td>\n",
       "      <td>0.995764</td>\n",
       "    </tr>\n",
       "    <tr>\n",
       "      <th>1</th>\n",
       "      <td>0.096634</td>\n",
       "      <td>0.974916</td>\n",
       "      <td>0.895147</td>\n",
       "      <td>0.622949</td>\n",
       "      <td>0.766498</td>\n",
       "    </tr>\n",
       "    <tr>\n",
       "      <th>2</th>\n",
       "      <td>0.089301</td>\n",
       "      <td>0.490964</td>\n",
       "      <td>0.008620</td>\n",
       "      <td>0.902483</td>\n",
       "      <td>0.886572</td>\n",
       "    </tr>\n",
       "    <tr>\n",
       "      <th>3</th>\n",
       "      <td>0.894870</td>\n",
       "      <td>0.736573</td>\n",
       "      <td>0.243433</td>\n",
       "      <td>0.756774</td>\n",
       "      <td>0.875608</td>\n",
       "    </tr>\n",
       "    <tr>\n",
       "      <th>4</th>\n",
       "      <td>0.633130</td>\n",
       "      <td>0.955751</td>\n",
       "      <td>0.224801</td>\n",
       "      <td>0.526805</td>\n",
       "      <td>0.244742</td>\n",
       "    </tr>\n",
       "  </tbody>\n",
       "</table>\n",
       "</div>"
      ],
      "text/plain": [
       "          0         1         2         3         4\n",
       "0  0.099560  0.421009  0.868030  0.961380  0.995764\n",
       "1  0.096634  0.974916  0.895147  0.622949  0.766498\n",
       "2  0.089301  0.490964  0.008620  0.902483  0.886572\n",
       "3  0.894870  0.736573  0.243433  0.756774  0.875608\n",
       "4  0.633130  0.955751  0.224801  0.526805  0.244742"
      ]
     },
     "execution_count": 39,
     "metadata": {},
     "output_type": "execute_result"
    }
   ],
   "source": [
    "import numpy as np\n",
    "df = pd.DataFrame(np.random.rand(5, 5))\n",
    "df\n"
   ]
  },
  {
   "cell_type": "code",
   "execution_count": 43,
   "id": "28ada963",
   "metadata": {},
   "outputs": [
    {
     "data": {
      "text/html": [
       "<div>\n",
       "<style scoped>\n",
       "    .dataframe tbody tr th:only-of-type {\n",
       "        vertical-align: middle;\n",
       "    }\n",
       "\n",
       "    .dataframe tbody tr th {\n",
       "        vertical-align: top;\n",
       "    }\n",
       "\n",
       "    .dataframe thead th {\n",
       "        text-align: right;\n",
       "    }\n",
       "</style>\n",
       "<table border=\"1\" class=\"dataframe\">\n",
       "  <thead>\n",
       "    <tr style=\"text-align: right;\">\n",
       "      <th></th>\n",
       "      <th>0</th>\n",
       "      <th>1</th>\n",
       "      <th>2</th>\n",
       "      <th>3</th>\n",
       "      <th>4</th>\n",
       "    </tr>\n",
       "  </thead>\n",
       "  <tbody>\n",
       "    <tr>\n",
       "      <th>0</th>\n",
       "      <td>0.099560</td>\n",
       "      <td>0.421009</td>\n",
       "      <td>NaN</td>\n",
       "      <td>NaN</td>\n",
       "      <td>NaN</td>\n",
       "    </tr>\n",
       "    <tr>\n",
       "      <th>1</th>\n",
       "      <td>0.096634</td>\n",
       "      <td>NaN</td>\n",
       "      <td>NaN</td>\n",
       "      <td>NaN</td>\n",
       "      <td>NaN</td>\n",
       "    </tr>\n",
       "    <tr>\n",
       "      <th>2</th>\n",
       "      <td>0.089301</td>\n",
       "      <td>0.490964</td>\n",
       "      <td>0.008620</td>\n",
       "      <td>0.902483</td>\n",
       "      <td>0.886572</td>\n",
       "    </tr>\n",
       "    <tr>\n",
       "      <th>3</th>\n",
       "      <td>0.894870</td>\n",
       "      <td>0.736573</td>\n",
       "      <td>0.243433</td>\n",
       "      <td>0.756774</td>\n",
       "      <td>0.875608</td>\n",
       "    </tr>\n",
       "    <tr>\n",
       "      <th>4</th>\n",
       "      <td>0.633130</td>\n",
       "      <td>0.955751</td>\n",
       "      <td>0.224801</td>\n",
       "      <td>0.526805</td>\n",
       "      <td>0.244742</td>\n",
       "    </tr>\n",
       "  </tbody>\n",
       "</table>\n",
       "</div>"
      ],
      "text/plain": [
       "          0         1         2         3         4\n",
       "0  0.099560  0.421009       NaN       NaN       NaN\n",
       "1  0.096634       NaN       NaN       NaN       NaN\n",
       "2  0.089301  0.490964  0.008620  0.902483  0.886572\n",
       "3  0.894870  0.736573  0.243433  0.756774  0.875608\n",
       "4  0.633130  0.955751  0.224801  0.526805  0.244742"
      ]
     },
     "execution_count": 43,
     "metadata": {},
     "output_type": "execute_result"
    }
   ],
   "source": [
    "df[df.iloc[:2]>=0.5]=np.nan\n",
    "df"
   ]
  },
  {
   "cell_type": "code",
   "execution_count": 47,
   "id": "65d06b36",
   "metadata": {},
   "outputs": [
    {
     "name": "stdout",
     "output_type": "stream",
     "text": [
      "2\n"
     ]
    }
   ],
   "source": [
    "#The code df[2].isnull().sum() is used to count the number of null values in the third column of the DataFrame df. If you're encountering an issue with this code, please ensure that the DataFrame df is defined and has at least three columns.\n",
    "print(df[2].isnull().sum())"
   ]
  },
  {
   "cell_type": "code",
   "execution_count": 49,
   "id": "53ce73ff",
   "metadata": {},
   "outputs": [
    {
     "data": {
      "text/html": [
       "<div>\n",
       "<style scoped>\n",
       "    .dataframe tbody tr th:only-of-type {\n",
       "        vertical-align: middle;\n",
       "    }\n",
       "\n",
       "    .dataframe tbody tr th {\n",
       "        vertical-align: top;\n",
       "    }\n",
       "\n",
       "    .dataframe thead th {\n",
       "        text-align: right;\n",
       "    }\n",
       "</style>\n",
       "<table border=\"1\" class=\"dataframe\">\n",
       "  <thead>\n",
       "    <tr style=\"text-align: right;\">\n",
       "      <th></th>\n",
       "      <th>0</th>\n",
       "      <th>1</th>\n",
       "      <th>2</th>\n",
       "      <th>3</th>\n",
       "      <th>4</th>\n",
       "    </tr>\n",
       "  </thead>\n",
       "  <tbody>\n",
       "    <tr>\n",
       "      <th>0</th>\n",
       "      <td>0.099560</td>\n",
       "      <td>0.421009</td>\n",
       "      <td>0.000000</td>\n",
       "      <td>0.000000</td>\n",
       "      <td>0.000000</td>\n",
       "    </tr>\n",
       "    <tr>\n",
       "      <th>1</th>\n",
       "      <td>0.096634</td>\n",
       "      <td>0.000000</td>\n",
       "      <td>0.000000</td>\n",
       "      <td>0.000000</td>\n",
       "      <td>0.000000</td>\n",
       "    </tr>\n",
       "    <tr>\n",
       "      <th>2</th>\n",
       "      <td>0.089301</td>\n",
       "      <td>0.490964</td>\n",
       "      <td>0.008620</td>\n",
       "      <td>0.902483</td>\n",
       "      <td>0.886572</td>\n",
       "    </tr>\n",
       "    <tr>\n",
       "      <th>3</th>\n",
       "      <td>0.894870</td>\n",
       "      <td>0.736573</td>\n",
       "      <td>0.243433</td>\n",
       "      <td>0.756774</td>\n",
       "      <td>0.875608</td>\n",
       "    </tr>\n",
       "    <tr>\n",
       "      <th>4</th>\n",
       "      <td>0.633130</td>\n",
       "      <td>0.955751</td>\n",
       "      <td>0.224801</td>\n",
       "      <td>0.526805</td>\n",
       "      <td>0.244742</td>\n",
       "    </tr>\n",
       "  </tbody>\n",
       "</table>\n",
       "</div>"
      ],
      "text/plain": [
       "          0         1         2         3         4\n",
       "0  0.099560  0.421009  0.000000  0.000000  0.000000\n",
       "1  0.096634  0.000000  0.000000  0.000000  0.000000\n",
       "2  0.089301  0.490964  0.008620  0.902483  0.886572\n",
       "3  0.894870  0.736573  0.243433  0.756774  0.875608\n",
       "4  0.633130  0.955751  0.224801  0.526805  0.244742"
      ]
     },
     "execution_count": 49,
     "metadata": {},
     "output_type": "execute_result"
    }
   ],
   "source": [
    "#The code df.replace(np.nan, 0) is used to replace all NaN values in the DataFrame df with the value 0. However, it's important to note that this operation doesn't modify the original DataFrame in place. If you want to update the DataFrame, you can assign the result back to df:\n",
    "\n",
    "\n",
    "\n",
    "df.replace(np.nan,0)"
   ]
  },
  {
   "cell_type": "code",
   "execution_count": 54,
   "id": "1cafbe23",
   "metadata": {},
   "outputs": [
    {
     "data": {
      "text/html": [
       "<div>\n",
       "<style scoped>\n",
       "    .dataframe tbody tr th:only-of-type {\n",
       "        vertical-align: middle;\n",
       "    }\n",
       "\n",
       "    .dataframe tbody tr th {\n",
       "        vertical-align: top;\n",
       "    }\n",
       "\n",
       "    .dataframe thead th {\n",
       "        text-align: right;\n",
       "    }\n",
       "</style>\n",
       "<table border=\"1\" class=\"dataframe\">\n",
       "  <thead>\n",
       "    <tr style=\"text-align: right;\">\n",
       "      <th></th>\n",
       "      <th>0</th>\n",
       "      <th>1</th>\n",
       "      <th>2</th>\n",
       "      <th>3</th>\n",
       "      <th>4</th>\n",
       "    </tr>\n",
       "  </thead>\n",
       "  <tbody>\n",
       "    <tr>\n",
       "      <th>0</th>\n",
       "      <td>0.099560</td>\n",
       "      <td>0.421009</td>\n",
       "      <td>0.158951</td>\n",
       "      <td>0.728687</td>\n",
       "      <td>0.668974</td>\n",
       "    </tr>\n",
       "    <tr>\n",
       "      <th>1</th>\n",
       "      <td>0.096634</td>\n",
       "      <td>0.651074</td>\n",
       "      <td>0.158951</td>\n",
       "      <td>0.728687</td>\n",
       "      <td>0.668974</td>\n",
       "    </tr>\n",
       "    <tr>\n",
       "      <th>2</th>\n",
       "      <td>0.089301</td>\n",
       "      <td>0.490964</td>\n",
       "      <td>0.008620</td>\n",
       "      <td>0.902483</td>\n",
       "      <td>0.886572</td>\n",
       "    </tr>\n",
       "    <tr>\n",
       "      <th>3</th>\n",
       "      <td>0.894870</td>\n",
       "      <td>0.736573</td>\n",
       "      <td>0.243433</td>\n",
       "      <td>0.756774</td>\n",
       "      <td>0.875608</td>\n",
       "    </tr>\n",
       "    <tr>\n",
       "      <th>4</th>\n",
       "      <td>0.633130</td>\n",
       "      <td>0.955751</td>\n",
       "      <td>0.224801</td>\n",
       "      <td>0.526805</td>\n",
       "      <td>0.244742</td>\n",
       "    </tr>\n",
       "  </tbody>\n",
       "</table>\n",
       "</div>"
      ],
      "text/plain": [
       "          0         1         2         3         4\n",
       "0  0.099560  0.421009  0.158951  0.728687  0.668974\n",
       "1  0.096634  0.651074  0.158951  0.728687  0.668974\n",
       "2  0.089301  0.490964  0.008620  0.902483  0.886572\n",
       "3  0.894870  0.736573  0.243433  0.756774  0.875608\n",
       "4  0.633130  0.955751  0.224801  0.526805  0.244742"
      ]
     },
     "execution_count": 54,
     "metadata": {},
     "output_type": "execute_result"
    }
   ],
   "source": [
    "#This line will fill NaN values in the DataFrame (df) with the mean of each column, and the changes will be applied in place.\n",
    "df.fillna(df.mean(), inplace=True)\n",
    "df"
   ]
  },
  {
   "cell_type": "code",
   "execution_count": 55,
   "id": "bfc5e5a9",
   "metadata": {},
   "outputs": [
    {
     "data": {
      "text/plain": [
       "array([[0.0995595 , 0.4210093 , 0.15895118, 0.72868722, 0.66897409],\n",
       "       [0.09663369, 0.65107438, 0.15895118, 0.72868722, 0.66897409],\n",
       "       [0.08930055, 0.49096436, 0.00861958, 0.90248288, 0.88657209],\n",
       "       [0.89487016, 0.73657297, 0.24343266, 0.75677421, 0.87560818],\n",
       "       [0.63312989, 0.95575088, 0.22480129, 0.52680457, 0.24474199]])"
      ]
     },
     "execution_count": 55,
     "metadata": {},
     "output_type": "execute_result"
    }
   ],
   "source": [
    "values=df.values\n",
    "values"
   ]
  },
  {
   "cell_type": "code",
   "execution_count": 60,
   "id": "e7aa7387",
   "metadata": {},
   "outputs": [
    {
     "data": {
      "text/plain": [
       "array([[0.0995595 , 0.4210093 , 0.15895118, 0.72868722, 0.66897409],\n",
       "       [0.09663369, 0.65107438, 0.15895118, 0.72868722, 0.66897409],\n",
       "       [0.08930055, 0.49096436, 0.00861958, 0.90248288, 0.88657209],\n",
       "       [0.89487016, 0.73657297, 0.24343266, 0.75677421, 0.87560818],\n",
       "       [0.63312989, 0.95575088, 0.22480129, 0.52680457, 0.24474199]])"
      ]
     },
     "execution_count": 60,
     "metadata": {},
     "output_type": "execute_result"
    }
   ],
   "source": [
    "#This code uses the SimpleImputer from scikit-learn with the strategy set to \"most_frequent\" and specifies the missing values as nan. If you have any more questions or if there's anything else I can assist you with, feel free to let me know!\n",
    "\n",
    "\n",
    "\n",
    "\n",
    "\n",
    "from numpy import isnan, nan\n",
    "from sklearn.impute import SimpleImputer\n",
    "\n",
    "# Assuming 'values' is your data\n",
    "imputer = SimpleImputer(missing_values=nan, strategy=\"most_frequent\")\n",
    "transformed_values = imputer.fit_transform(values)\n",
    "\n",
    "transformed_values"
   ]
  },
  {
   "cell_type": "code",
   "execution_count": null,
   "id": "20ff1d61",
   "metadata": {},
   "outputs": [],
   "source": []
  }
 ],
 "metadata": {
  "kernelspec": {
   "display_name": "Python 3 (ipykernel)",
   "language": "python",
   "name": "python3"
  },
  "language_info": {
   "codemirror_mode": {
    "name": "ipython",
    "version": 3
   },
   "file_extension": ".py",
   "mimetype": "text/x-python",
   "name": "python",
   "nbconvert_exporter": "python",
   "pygments_lexer": "ipython3",
   "version": "3.11.5"
  }
 },
 "nbformat": 4,
 "nbformat_minor": 5
}
